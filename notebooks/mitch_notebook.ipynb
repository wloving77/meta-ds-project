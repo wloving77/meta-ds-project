{
 "cells": [
  {
   "cell_type": "code",
   "execution_count": null,
   "metadata": {},
   "outputs": [],
   "source": [
    "import pandas as pd\n",
    "import matplotlib.pyplot as plt\n",
    "import seaborn as sns"
   ]
  },
  {
   "cell_type": "code",
   "execution_count": null,
   "metadata": {},
   "outputs": [],
   "source": [
    "# Load data\n",
    "titles = pd.read_csv('../data/data_unzipped/netflix_titles.csv')\n",
    "subscribers = pd.read_csv('../data/netflix_sub_count.csv')\n",
    "\n",
    "# Convert date_added to datetime\n",
    "titles['date_added'] = pd.to_datetime(titles['date_added'])\n",
    "\n",
    "# Create separate dataframes for movies and tv shows\n",
    "movies = titles[titles['type'] == 'Movie'].copy()\n",
    "tv_shows = titles[titles['type'] == 'TV Show'].copy()\n",
    "\n",
    "# Fix rows where duration was input to rating\n",
    "movies.loc[5541, 'duration'] = movies.loc[5541, 'rating']\n",
    "movies.loc[5794, 'duration'] = movies.loc[5794, 'rating']\n",
    "movies.loc[5813, 'duration'] = movies.loc[5813, 'rating']\n",
    "\n",
    "# Fix NA ratings by googling the title\n",
    "movies.loc[5541, 'rating'] = 'TV-MA'\n",
    "movies.loc[5794, 'rating'] = 'TV-MA'\n",
    "movies.loc[5813, 'rating'] = 'TV-MA'\n",
    "movies.loc[7537, 'rating'] = 'PG-13'\n",
    "movies.loc[5989, 'rating'] = 'TV-PG'\n",
    "tv_shows.loc[7312, 'rating'] = 'TV-G'\n",
    "tv_shows.loc[6827, 'rating'] = 'TV-14'\n",
    "\n",
    "# Create a new column in each dataframe to better house duration\n",
    "tv_shows['num_seasons'] = tv_shows['duration'].str.extract('(\\d+)').astype(int)\n",
    "movies['num_minutes'] = movies['duration'].str.extract('(\\d+)').astype(int)"
   ]
  },
  {
   "cell_type": "code",
   "execution_count": null,
   "metadata": {},
   "outputs": [],
   "source": [
    "# Create lists of unqiue values from director, cast, country, and listed_in, as well as their frequency\n",
    "movie_directors = movies['director'].str.split(', ').explode().value_counts().reset_index()\n",
    "movie_directors.columns = ['director', 'count']\n",
    "\n",
    "movie_cast = movies['cast'].str.split(', ').explode().value_counts().reset_index()\n",
    "movie_cast.columns = ['cast', 'count']\n",
    "\n",
    "movie_countries = movies['country'].str.split(', ').explode().value_counts().reset_index()\n",
    "movie_countries.columns = ['country', 'count']\n",
    "\n",
    "movie_genres = movies['listed_in'].str.split(', ').explode().value_counts().reset_index()\n",
    "movie_genres.columns = ['genre', 'count']"
   ]
  },
  {
   "cell_type": "code",
   "execution_count": null,
   "metadata": {},
   "outputs": [],
   "source": [
    "# Now do the same for tv shows\n",
    "tv_directors = tv_shows['director'].str.split(', ').explode().value_counts().reset_index()\n",
    "tv_directors.columns = ['director', 'count']\n",
    "\n",
    "tv_cast = tv_shows['cast'].str.split(', ').explode().value_counts().reset_index()\n",
    "tv_cast.columns = ['cast', 'count']\n",
    "\n",
    "tv_countries = tv_shows['country'].str.split(', ').explode().value_counts().reset_index()\n",
    "tv_countries.columns = ['country', 'count']\n",
    "\n",
    "tv_genres = tv_shows['listed_in'].str.split(', ').explode().value_counts().reset_index()\n",
    "tv_genres.columns = ['genre', 'count']"
   ]
  },
  {
   "cell_type": "code",
   "execution_count": null,
   "metadata": {},
   "outputs": [],
   "source": [
    "def director_criteria(directors, all_directors, threshold):\n",
    "    if pd.isna(directors):\n",
    "        return 0\n",
    "    for director in directors.split(', '):\n",
    "        if all_directors[all_directors['director'] == director]['count'].values[0] > threshold:\n",
    "            return 1\n",
    "    return 0\n",
    "\n",
    "def cast_criteria(casts, all_casts, threshold):\n",
    "    if pd.isna(casts):\n",
    "        return 0\n",
    "    for cast in casts.split(', '):\n",
    "        if all_casts[all_casts['cast'] == cast]['count'].values[0] > threshold:\n",
    "            return 1\n",
    "    return 0\n",
    "\n",
    "movies['director_2'] = movies['director'].apply(lambda x: director_criteria(x, movie_directors, 1))\n",
    "movies['director_5'] = movies['director'].apply(lambda x: director_criteria(x, movie_directors, 4))\n",
    "\n",
    "movies['cast_2'] = movies['cast'].apply(lambda x: cast_criteria(x, movie_cast, 1))\n",
    "movies['cast_6'] = movies['cast'].apply(lambda x: cast_criteria(x, movie_cast, 5))\n",
    "movies['cast_12'] = movies['cast'].apply(lambda x: cast_criteria(x, movie_cast, 11))\n",
    "tv_shows['cast_2'] = tv_shows['cast'].apply(lambda x: cast_criteria(x, tv_cast, 1))\n",
    "tv_shows['cast_5'] = tv_shows['cast'].apply(lambda x: cast_criteria(x, tv_cast, 4))"
   ]
  },
  {
   "cell_type": "code",
   "execution_count": null,
   "metadata": {},
   "outputs": [],
   "source": [
    "movie_directors[movie_directors['director'] == 'JJC Skillz']"
   ]
  }
 ],
 "metadata": {
  "kernelspec": {
   "display_name": "Python 3 (ipykernel)",
   "language": "python",
   "name": "python3"
  },
  "language_info": {
   "codemirror_mode": {
    "name": "ipython",
    "version": 3
   },
   "file_extension": ".py",
   "mimetype": "text/x-python",
   "name": "python",
   "nbconvert_exporter": "python",
   "pygments_lexer": "ipython3",
   "version": "3.10.12"
  }
 },
 "nbformat": 4,
 "nbformat_minor": 4
}
