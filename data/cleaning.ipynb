{
 "cells": [
  {
   "cell_type": "code",
   "execution_count": 7,
   "metadata": {},
   "outputs": [],
   "source": [
    "import pandas as pd\n",
    "import matplotlib.pyplot as plt"
   ]
  },
  {
   "cell_type": "code",
   "execution_count": 8,
   "metadata": {},
   "outputs": [],
   "source": [
    "# Load data\n",
    "titles = pd.read_csv('./data_unzipped/netflix_titles.csv')\n",
    "subscribers = pd.read_csv('./netflix_sub_count.csv')\n",
    "subscribers.columns = ['quarter', 'sub_millions']\n",
    "# Change date_added to datetime\n",
    "titles['date_added'] = pd.to_datetime(titles['date_added'])\n",
    "# Add quarter column\n",
    "titles['quarter'] = titles['date_added'].dt.to_period('Q').astype(str)\n",
    "# Fix rows where duration was input to rating\n",
    "titles.loc[5541, 'duration'] = titles.loc[5541, 'rating']\n",
    "titles.loc[5794, 'duration'] = titles.loc[5794, 'rating']\n",
    "titles.loc[5813, 'duration'] = titles.loc[5813, 'rating']\n",
    "# Fix NA ratings by googling the title\n",
    "titles.loc[5541, 'rating'] = 'TV-MA'\n",
    "titles.loc[5794, 'rating'] = 'TV-MA'\n",
    "titles.loc[5813, 'rating'] = 'TV-MA'\n",
    "titles.loc[7537, 'rating'] = 'PG-13'\n",
    "titles.loc[5989, 'rating'] = 'TV-PG'\n",
    "titles.loc[7312, 'rating'] = 'TV-G'\n",
    "titles.loc[6827, 'rating'] = 'TV-14'\n",
    "# Create a new column to better house duration\n",
    "titles['length'] = titles['duration'].str.extract('(\\d+)').astype(int)\n",
    "# Random data fixes\n",
    "titles.loc[4653, 'country'] = 'United States'"
   ]
  },
  {
   "cell_type": "code",
   "execution_count": 9,
   "metadata": {},
   "outputs": [],
   "source": [
    "# Create a dataframe of directors and their counts\n",
    "directors = titles['director'].str.split(', ').explode().value_counts().reset_index()\n",
    "directors.columns = ['value', 'count']\n",
    "# Create a dataframe of actors and their counts\n",
    "actors = titles['cast'].str.split(', ').explode().value_counts().reset_index()\n",
    "actors.columns = ['value', 'count']\n",
    "# Create a dataframe of countries and their counts\n",
    "countries = titles['country'].str.split(', ').explode().value_counts().reset_index()\n",
    "countries.columns = ['value', 'count']\n",
    "# Create a dataframe of genres and their counts\n",
    "genres = titles['listed_in'].str.split(', ').explode().value_counts().reset_index()\n",
    "genres.columns = ['value', 'count']"
   ]
  },
  {
   "cell_type": "code",
   "execution_count": 10,
   "metadata": {},
   "outputs": [],
   "source": [
    "# Create a function to create a new column based on the top quantile of a column\n",
    "def top_quantile_criteria(element, counts, threshold):\n",
    "    if pd.isna(element):\n",
    "        return 0\n",
    "    for i in element.split(', '):\n",
    "        if counts[counts['value'] == i]['count'].values[0] >= threshold:\n",
    "            return 1\n",
    "    return 0\n",
    "# Create a list of thresholds for directors and actors\n",
    "thresholds = [\n",
    "    (directors['count'].quantile(0.9), actors['count'].quantile(0.9)),\n",
    "    (directors['count'].quantile(0.95), actors['count'].quantile(0.95)),\n",
    "    (directors['count'].quantile(0.99), actors['count'].quantile(0.99))\n",
    "]\n",
    "# Create columns for directors and actors in the top 10%, 5%, and 1% of counts\n",
    "for dir_t, act_t in thresholds:\n",
    "    titles[f'dir_in_{int(dir_t)}'] = titles['director'].apply(lambda x: top_quantile_criteria(x, directors, dir_t))\n",
    "    titles[f'act_in_{int(act_t)}'] = titles['cast'].apply(lambda x: top_quantile_criteria(x, actors, act_t))"
   ]
  },
  {
   "cell_type": "code",
   "execution_count": 11,
   "metadata": {},
   "outputs": [],
   "source": [
    "def check_in(element, interest):\n",
    "    if pd.isna(element):\n",
    "        return 0\n",
    "    for i in element.split(', '):\n",
    "        if i == interest:\n",
    "            return 1\n",
    "    return 0\n",
    "# Add a new binary column for titles from top 10 countries and top 20 genres and all ratings\n",
    "top_10_countries = countries['value'].head(10).tolist()\n",
    "top_20_genres = genres['value'].head(20).tolist()\n",
    "ratings = titles['rating'].unique().tolist()\n",
    "for i in top_10_countries:\n",
    "    titles[f'{i}'] = titles['country'].apply(lambda x: check_in(x, i))\n",
    "for i in top_20_genres:\n",
    "    titles[i] = titles['listed_in'].apply(lambda x: 1 if i in x else 0)\n",
    "for i in ratings:\n",
    "    titles[i] = titles['rating'].apply(lambda x: 1 if i in x else 0)\n",
    "# Binary column for tv show and movie\n",
    "titles['tv_show'] = titles['type'].apply(lambda x: 1 if x == 'TV Show' else 0)\n",
    "titles['movie'] = titles['type'].apply(lambda x: 1 if x == 'Movie' else 0)"
   ]
  },
  {
   "cell_type": "code",
   "execution_count": 12,
   "metadata": {},
   "outputs": [],
   "source": [
    "# make a new df with all of the binary columns and quarter column\n",
    "df = titles[\n",
    "    ['quarter', 'release_year', 'length',\n",
    "     'tv_show', 'movie', 'dir_in_2',\n",
    "     'dir_in_3', 'dir_in_6', 'act_in_3',\n",
    "     'act_in_5', 'act_in_10'] + top_10_countries + top_20_genres + ratings]\n",
    "# slice df into tv shows and movies. summarize both by quarter to get avg length\n",
    "df_tv = df[df['tv_show'] == 1][['quarter', 'length']].groupby('quarter').mean().reset_index()\n",
    "df_movie = df[df['movie'] == 1][['quarter', 'length']].groupby('quarter').mean().reset_index()\n",
    "# merge the two dfs and rename columns\n",
    "length = df_tv.merge(df_movie, on='quarter')\n",
    "length.columns = ['quarter', 'avg_tv_length', 'avg_movie_length']\n",
    "# summarise df by quarter and combine with subscriber data\n",
    "subscribers = subscribers.merge(length, on='quarter')\n",
    "df = subscribers.merge(df.groupby('quarter').sum().reset_index(), on='quarter')\n",
    "# Add a column for total titles added\n",
    "df['total'] = df['tv_show'] + df['movie']"
   ]
  },
  {
   "cell_type": "code",
   "execution_count": 13,
   "metadata": {},
   "outputs": [],
   "source": [
    "# save as subs.csv\n",
    "df.to_csv('./subs.csv', index=False)"
   ]
  }
 ],
 "metadata": {
  "kernelspec": {
   "display_name": "Python 3",
   "language": "python",
   "name": "python3"
  },
  "language_info": {
   "codemirror_mode": {
    "name": "ipython",
    "version": 3
   },
   "file_extension": ".py",
   "mimetype": "text/x-python",
   "name": "python",
   "nbconvert_exporter": "python",
   "pygments_lexer": "ipython3",
   "version": "3.10.13"
  }
 },
 "nbformat": 4,
 "nbformat_minor": 2
}
